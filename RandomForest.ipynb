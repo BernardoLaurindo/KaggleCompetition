{
 "cells": [
  {
   "cell_type": "code",
   "execution_count": 1,
   "id": "44e2b001",
   "metadata": {},
   "outputs": [],
   "source": [
    "import pandas as pd\n",
    "import numpy as np\n",
    "from sklearn.pipeline import Pipeline\n",
    "from sklearn.impute import SimpleImputer\n",
    "from sklearn.preprocessing import StandardScaler\n",
    "from sklearn.ensemble import RandomForestClassifier\n",
    "from sklearn.model_selection import KFold, cross_val_score"
   ]
  },
  {
   "cell_type": "code",
   "execution_count": 2,
   "id": "77a4969f",
   "metadata": {},
   "outputs": [
    {
     "name": "stdout",
     "output_type": "stream",
     "text": [
      "Arquivos 'train.csv' e 'test.csv' carregados com sucesso!\n"
     ]
    }
   ],
   "source": [
    "try:\n",
    "    train_df = pd.read_csv(\"train.csv\")\n",
    "    test_df = pd.read_csv(\"test.csv\")\n",
    "    print(\"Arquivos 'train.csv' e 'test.csv' carregados com sucesso!\")\n",
    "except FileNotFoundError:\n",
    "    print(\"\\nERRO: Arquivo não encontrado!\")"
   ]
  },
  {
   "cell_type": "code",
   "execution_count": 3,
   "id": "26a73606",
   "metadata": {},
   "outputs": [
    {
     "name": "stdout",
     "output_type": "stream",
     "text": [
      "Preparando dados com a abordagem simples.\n"
     ]
    }
   ],
   "source": [
    "print(\"Preparando dados com a abordagem simples.\")\n",
    "features_to_drop = ['labels', 'id', 'category_code']\n",
    "X = train_df.drop(columns=features_to_drop)\n",
    "y = train_df['labels']"
   ]
  },
  {
   "cell_type": "code",
   "execution_count": 4,
   "id": "7419f278",
   "metadata": {},
   "outputs": [
    {
     "name": "stdout",
     "output_type": "stream",
     "text": [
      "\n",
      "--- Etapa de Análise de Importância ---\n",
      "Ranking de Features por Importância:\n",
      "                     feature  importance\n",
      "4              relationships    0.140269\n",
      "3    age_last_milestone_year    0.116542\n",
      "6          funding_total_usd    0.108256\n",
      "1      age_last_funding_year    0.093269\n",
      "0     age_first_funding_year    0.085942\n",
      "2   age_first_milestone_year    0.082207\n",
      "29          avg_participants    0.074409\n",
      "7                 milestones    0.065790\n",
      "5             funding_rounds    0.041352\n",
      "26                has_roundB    0.016033\n",
      "12             is_otherstate    0.014719\n",
      "8                      is_CA    0.014168\n",
      "23                    has_VC    0.014160\n",
      "22          is_othercategory    0.013709\n",
      "27                has_roundC    0.013650\n",
      "25                has_roundA    0.012461\n",
      "13               is_software    0.010837\n",
      "10                     is_MA    0.010339\n",
      "28                has_roundD    0.009816\n",
      "14                    is_web    0.008731\n",
      "24                 has_angel    0.008394\n",
      "16             is_enterprise    0.007925\n",
      "11                     is_TX    0.007353\n",
      "15                 is_mobile    0.006673\n",
      "9                      is_NY    0.006627\n",
      "17            is_advertising    0.004620\n",
      "20                is_biotech    0.004123\n",
      "18             is_gamesvideo    0.003818\n",
      "19              is_ecommerce    0.003567\n",
      "21             is_consulting    0.000244\n"
     ]
    }
   ],
   "source": [
    "print(\"\\n--- Etapa de Análise de Importância ---\")\n",
    "# Criamos um pipeline temporário apenas para treinar o modelo e ver as importâncias\n",
    "temp_pipeline = Pipeline(steps=[\n",
    "    ('imputer', SimpleImputer(strategy='median')),\n",
    "    ('scaler', StandardScaler()),\n",
    "    ('classifier', RandomForestClassifier(n_estimators=200, random_state=42, class_weight='balanced', n_jobs=-1))\n",
    "])\n",
    "temp_pipeline.fit(X, y)\n",
    "\n",
    "# Extrair as importâncias do modelo treinado\n",
    "importances = temp_pipeline.named_steps['classifier'].feature_importances_\n",
    "feature_names = X.columns\n",
    "\n",
    "# Criar um DataFrame para visualizar as importâncias\n",
    "feature_importance_df = pd.DataFrame({'feature': feature_names, 'importance': importances})\n",
    "feature_importance_df = feature_importance_df.sort_values(by='importance', ascending=False)\n",
    "\n",
    "print(\"Ranking de Features por Importância:\")\n",
    "print(feature_importance_df)"
   ]
  },
  {
   "cell_type": "code",
   "execution_count": 5,
   "id": "4e9af846",
   "metadata": {},
   "outputs": [
    {
     "name": "stdout",
     "output_type": "stream",
     "text": [
      "\n",
      "--- Etapa de Validação com Features Selecionadas ---\n",
      "\n",
      "Testando o modelo usando apenas as 15 features mais importantes...\n",
      "\n",
      "--- RESULTADO DA VALIDAÇÃO (COM FEATURES SELECIONADAS) ---\n",
      "Acurácias de cada um dos 5 folds: [0.7462 0.7442 0.7597 0.8372 0.8295]\n",
      "Acurácia Média: 0.7833\n",
      "----------------------------------------------------------\n",
      "Compare este resultado com a nossa melhor média anterior (~0.7787).\n"
     ]
    }
   ],
   "source": [
    "print(\"\\n--- Etapa de Validação com Features Selecionadas ---\")\n",
    "\n",
    "# Vamos selecionar as 15 features mais importantes\n",
    "N_TOP_FEATURES = 15\n",
    "top_features = feature_importance_df['feature'].head(N_TOP_FEATURES).tolist()\n",
    "\n",
    "print(f\"\\nTestando o modelo usando apenas as {N_TOP_FEATURES} features mais importantes...\")\n",
    "X_selected = X[top_features]\n",
    "\n",
    "# Usar o mesmo pipeline e a mesma validação cruzada de antes\n",
    "cv = KFold(n_splits=5, shuffle=True, random_state=42)\n",
    "scores = cross_val_score(temp_pipeline, X_selected, y, cv=cv, scoring='accuracy')\n",
    "\n",
    "print(\"\\n--- RESULTADO DA VALIDAÇÃO (COM FEATURES SELECIONADAS) ---\")\n",
    "print(f\"Acurácias de cada um dos 5 folds: {np.round(scores, 4)}\")\n",
    "print(f\"Acurácia Média: {scores.mean():.4f}\")\n",
    "print(\"----------------------------------------------------------\")\n",
    "print(\"Compare este resultado com a nossa melhor média anterior (~0.7787).\")"
   ]
  },
  {
   "cell_type": "code",
   "execution_count": 6,
   "id": "5e8a0679",
   "metadata": {},
   "outputs": [
    {
     "name": "stdout",
     "output_type": "stream",
     "text": [
      "\n",
      "--- Etapa de Submissão ---\n",
      "Treinando o modelo final com as features selecionadas...\n",
      "\n",
      "Arquivo 'final_submission_feature_selection.csv' criado com sucesso!\n"
     ]
    }
   ],
   "source": [
    "print(\"\\n--- Etapa de Submissão ---\")\n",
    "print(\"Treinando o modelo final com as features selecionadas...\")\n",
    "temp_pipeline.fit(X_selected, y) # Treina com os dados e features selecionados\n",
    "\n",
    "# Prepara o test set com as mesmas features\n",
    "test_ids = test_df['id']\n",
    "X_test_selected = test_df[top_features] # Seleciona as mesmas colunas no teste\n",
    "X_selected, X_test_selected = X_selected.align(X_test_selected, join='left', axis=1, fill_value=0)\n",
    "\n",
    "final_predictions = temp_pipeline.predict(X_test_selected)\n",
    "submission_df = pd.DataFrame({'id': test_ids, 'labels': final_predictions})\n",
    "submission_df.to_csv('final_submission_feature_selection.csv', index=False)\n",
    "\n",
    "print(\"\\nArquivo 'final_submission_feature_selection.csv' criado com sucesso!\")"
   ]
  }
 ],
 "metadata": {
  "kernelspec": {
   "display_name": "Python 3",
   "language": "python",
   "name": "python3"
  },
  "language_info": {
   "codemirror_mode": {
    "name": "ipython",
    "version": 3
   },
   "file_extension": ".py",
   "mimetype": "text/x-python",
   "name": "python",
   "nbconvert_exporter": "python",
   "pygments_lexer": "ipython3",
   "version": "3.13.7"
  }
 },
 "nbformat": 4,
 "nbformat_minor": 5
}
