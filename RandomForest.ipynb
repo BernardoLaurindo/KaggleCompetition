{
 "cells": [
  {
   "cell_type": "code",
   "execution_count": 7,
   "id": "44e2b001",
   "metadata": {},
   "outputs": [],
   "source": [
    "import pandas as pd\n",
    "from sklearn.pipeline import Pipeline\n",
    "from sklearn.impute import SimpleImputer\n",
    "from sklearn.preprocessing import StandardScaler\n",
    "from sklearn.ensemble import RandomForestClassifier\n"
   ]
  },
  {
   "cell_type": "code",
   "execution_count": 8,
   "id": "77a4969f",
   "metadata": {},
   "outputs": [
    {
     "name": "stdout",
     "output_type": "stream",
     "text": [
      "Dados de treino carregados: 646 linhas, 33 colunas.\n",
      "Dados de teste carregados: 277 linhas, 32 colunas.\n"
     ]
    }
   ],
   "source": [
    "try:\n",
    "    train_df = pd.read_csv(\"train.csv\")\n",
    "    test_df = pd.read_csv(\"test.csv\")\n",
    "    print(f\"Dados de treino carregados: {train_df.shape[0]} linhas, {train_df.shape[1]} colunas.\")\n",
    "    print(f\"Dados de teste carregados: {test_df.shape[0]} linhas, {test_df.shape[1]} colunas.\")\n",
    "except FileNotFoundError:\n",
    "    print(\"\\nERRO: Arquivo não encontrado!\")"
   ]
  },
  {
   "cell_type": "code",
   "execution_count": 9,
   "id": "26a73606",
   "metadata": {},
   "outputs": [
    {
     "name": "stdout",
     "output_type": "stream",
     "text": [
      "Número de features (colunas) usadas no modelo: 30\n"
     ]
    }
   ],
   "source": [
    "features_to_drop = ['labels', 'id', 'category_code']\n",
    "X_train = train_df.drop(columns=features_to_drop)\n",
    "y_train = train_df['labels']\n",
    "\n",
    "test_ids = test_df['id'] \n",
    "X_test = test_df.drop(columns=['id', 'category_code'])\n",
    "\n",
    "X_test = X_test[X_train.columns]\n",
    "\n",
    "print(f\"Número de features (colunas) usadas no modelo: {X_train.shape[1]}\")"
   ]
  },
  {
   "cell_type": "code",
   "execution_count": 10,
   "id": "7419f278",
   "metadata": {},
   "outputs": [],
   "source": [
    "pipeline = Pipeline(steps=[\n",
    "    ('imputer', SimpleImputer(strategy='median')),\n",
    "    ('scaler', StandardScaler()),\n",
    "    ('classifier', RandomForestClassifier(\n",
    "        n_estimators=200,\n",
    "        random_state=42,\n",
    "        class_weight='balanced',\n",
    "        n_jobs=-1\n",
    "    ))\n",
    "])"
   ]
  },
  {
   "cell_type": "code",
   "execution_count": 14,
   "id": "e9dd2f34",
   "metadata": {},
   "outputs": [
    {
     "name": "stdout",
     "output_type": "stream",
     "text": [
      "Treinamento concluído com sucesso!\n"
     ]
    }
   ],
   "source": [
    "pipeline.fit(X_train, y_train)\n",
    "print(\"Treinamento concluído com sucesso!\")"
   ]
  },
  {
   "cell_type": "code",
   "execution_count": 15,
   "id": "4e9af846",
   "metadata": {},
   "outputs": [
    {
     "name": "stdout",
     "output_type": "stream",
     "text": [
      "\n",
      "Arquivo 'submission.csv' foi criado com sucesso!\n"
     ]
    }
   ],
   "source": [
    "test_predictions = pipeline.predict(X_test)\n",
    "\n",
    "submission_df = pd.DataFrame({'id': test_ids, 'labels': test_predictions})\n",
    "\n",
    "submission_df.to_csv('submission.csv', index=False)\n",
    "\n",
    "print(\"\\nArquivo 'submission.csv' foi criado com sucesso!\")"
   ]
  }
 ],
 "metadata": {
  "kernelspec": {
   "display_name": "Python 3",
   "language": "python",
   "name": "python3"
  },
  "language_info": {
   "codemirror_mode": {
    "name": "ipython",
    "version": 3
   },
   "file_extension": ".py",
   "mimetype": "text/x-python",
   "name": "python",
   "nbconvert_exporter": "python",
   "pygments_lexer": "ipython3",
   "version": "3.13.7"
  }
 },
 "nbformat": 4,
 "nbformat_minor": 5
}
