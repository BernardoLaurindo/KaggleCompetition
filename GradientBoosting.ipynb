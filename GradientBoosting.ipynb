{
 "cells": [
  {
   "cell_type": "code",
   "execution_count": 1,
   "id": "2c758c05",
   "metadata": {},
   "outputs": [],
   "source": [
    "import pandas as pd\n",
    "import numpy as np\n",
    "from sklearn.pipeline import Pipeline\n",
    "from sklearn.impute import SimpleImputer\n",
    "from sklearn.preprocessing import StandardScaler\n",
    "from sklearn.ensemble import RandomForestClassifier\n",
    "from sklearn.model_selection import GridSearchCV"
   ]
  },
  {
   "cell_type": "code",
   "execution_count": 2,
   "id": "2270484b",
   "metadata": {},
   "outputs": [
    {
     "name": "stdout",
     "output_type": "stream",
     "text": [
      "Arquivos 'train.csv' e 'test.csv' carregados com sucesso!\n"
     ]
    }
   ],
   "source": [
    "try:\n",
    "    train_df = pd.read_csv(\"train.csv\")\n",
    "    test_df = pd.read_csv(\"test.csv\")\n",
    "    print(\"Arquivos 'train.csv' e 'test.csv' carregados com sucesso!\")\n",
    "except FileNotFoundError:\n",
    "    print(\"\\nERRO: Arquivo não encontrado!\")"
   ]
  },
  {
   "cell_type": "code",
   "execution_count": 3,
   "id": "74f4a3c9",
   "metadata": {},
   "outputs": [
    {
     "name": "stdout",
     "output_type": "stream",
     "text": [
      "Preparando dados e selecionando as melhores features...\n",
      "Otimização será feita com as 15 features mais importantes.\n"
     ]
    }
   ],
   "source": [
    "print(\"Preparando dados e selecionando as melhores features...\")\n",
    "features_to_drop = ['labels', 'id', 'category_code']\n",
    "X = train_df.drop(columns=features_to_drop)\n",
    "y = train_df['labels']\n",
    "\n",
    "# Análise de importância para encontrar as melhores features\n",
    "temp_rf = Pipeline(steps=[\n",
    "    ('imputer', SimpleImputer(strategy='median')),\n",
    "    ('scaler', StandardScaler()),\n",
    "    ('classifier', RandomForestClassifier(n_estimators=200, random_state=42, n_jobs=-1))\n",
    "])\n",
    "temp_rf.fit(X, y)\n",
    "importances = temp_rf.named_steps['classifier'].feature_importances_\n",
    "feature_importance_df = pd.DataFrame({'feature': X.columns, 'importance': importances})\n",
    "feature_importance_df = feature_importance_df.sort_values(by='importance', ascending=False)\n",
    "\n",
    "N_TOP_FEATURES = 15\n",
    "top_features = feature_importance_df['feature'].head(N_TOP_FEATURES).tolist()\n",
    "X_selected = X[top_features]\n",
    "\n",
    "print(f\"Otimização será feita com as {N_TOP_FEATURES} features mais importantes.\")"
   ]
  },
  {
   "cell_type": "code",
   "execution_count": 4,
   "id": "f7297609",
   "metadata": {},
   "outputs": [
    {
     "name": "stdout",
     "output_type": "stream",
     "text": [
      "\n",
      "--- Etapa de Otimização (GridSearchCV) nas Features Selecionadas ---\n",
      "Iniciando a busca... Isso pode demorar alguns minutos.\n",
      "Fitting 5 folds for each of 24 candidates, totalling 120 fits\n",
      "\n",
      "--- RESULTADO DA OTIMIZAÇÃO ---\n",
      "Melhor Acurácia de Validação Cruzada: 0.7894\n",
      "Melhores Parâmetros Encontrados:\n",
      "{'classifier__max_depth': 10, 'classifier__max_features': 0.5, 'classifier__min_samples_leaf': 2, 'classifier__n_estimators': 200}\n",
      "---------------------------------\n"
     ]
    }
   ],
   "source": [
    "print(\"\\n--- Etapa de Otimização (GridSearchCV) nas Features Selecionadas ---\")\n",
    "\n",
    "pipeline = Pipeline(steps=[\n",
    "    ('imputer', SimpleImputer(strategy='median')),\n",
    "    ('scaler', StandardScaler()),\n",
    "    ('classifier', RandomForestClassifier(random_state=42, class_weight='balanced', n_jobs=-1))\n",
    "])\n",
    "\n",
    "# Grade de parâmetros um pouco mais focada\n",
    "param_grid = {\n",
    "    'classifier__n_estimators': [200, 300],\n",
    "    'classifier__max_depth': [8, 10, 12],\n",
    "    'classifier__min_samples_leaf': [2, 4],\n",
    "    'classifier__max_features': ['sqrt', 0.5] # Adicionando mais um parâmetro para testar\n",
    "}\n",
    "\n",
    "grid_search = GridSearchCV(pipeline, param_grid, cv=5, scoring='accuracy', verbose=1)\n",
    "\n",
    "print(\"Iniciando a busca... Isso pode demorar alguns minutos.\")\n",
    "grid_search.fit(X_selected, y)\n",
    "\n",
    "print(\"\\n--- RESULTADO DA OTIMIZAÇÃO ---\")\n",
    "print(f\"Melhor Acurácia de Validação Cruzada: {grid_search.best_score_:.4f}\")\n",
    "print(\"Melhores Parâmetros Encontrados:\")\n",
    "print(grid_search.best_params_)\n",
    "print(\"---------------------------------\")"
   ]
  },
  {
   "cell_type": "code",
   "execution_count": 5,
   "id": "b5a3e22f",
   "metadata": {},
   "outputs": [
    {
     "name": "stdout",
     "output_type": "stream",
     "text": [
      "\n",
      "--- Etapa de Submissão ---\n",
      "Usando o melhor modelo encontrado para gerar as previsões finais...\n",
      "\n",
      "Arquivo 'final_submission_optimized_selected_features.csv' criado com sucesso!\n"
     ]
    }
   ],
   "source": [
    "print(\"\\n--- Etapa de Submissão ---\")\n",
    "print(\"Usando o melhor modelo encontrado para gerar as previsões finais...\")\n",
    "best_model = grid_search.best_estimator_\n",
    "\n",
    "# Prepara o test set com as mesmas features\n",
    "test_ids = test_df['id']\n",
    "X_test_selected = test_df[top_features]\n",
    "X_selected, X_test_selected = X_selected.align(X_test_selected, join='left', axis=1, fill_value=0)\n",
    "\n",
    "final_predictions = best_model.predict(X_test_selected)\n",
    "submission_df = pd.DataFrame({'id': test_ids, 'labels': final_predictions})\n",
    "submission_df.to_csv('final_submission_optimized_selected_features.csv', index=False)\n",
    "\n",
    "print(\"\\nArquivo 'final_submission_optimized_selected_features.csv' criado com sucesso!\")"
   ]
  },
  {
   "cell_type": "code",
   "execution_count": null,
   "id": "fba608cc",
   "metadata": {},
   "outputs": [],
   "source": []
  }
 ],
 "metadata": {
  "kernelspec": {
   "display_name": "Python 3",
   "language": "python",
   "name": "python3"
  },
  "language_info": {
   "codemirror_mode": {
    "name": "ipython",
    "version": 3
   },
   "file_extension": ".py",
   "mimetype": "text/x-python",
   "name": "python",
   "nbconvert_exporter": "python",
   "pygments_lexer": "ipython3",
   "version": "3.13.7"
  }
 },
 "nbformat": 4,
 "nbformat_minor": 5
}
