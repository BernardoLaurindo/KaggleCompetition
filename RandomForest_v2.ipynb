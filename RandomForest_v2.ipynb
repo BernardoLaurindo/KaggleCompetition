{
 "cells": [
  {
   "cell_type": "code",
   "execution_count": 10,
   "id": "f0b1e2b7",
   "metadata": {},
   "outputs": [],
   "source": [
    "import pandas as pd\n",
    "import numpy as np\n",
    "from sklearn.impute import SimpleImputer\n",
    "from sklearn.preprocessing import StandardScaler\n",
    "from sklearn.ensemble import RandomForestClassifier\n",
    "from sklearn.model_selection import cross_val_score"
   ]
  },
  {
   "cell_type": "code",
   "execution_count": 11,
   "id": "8dd32793",
   "metadata": {},
   "outputs": [],
   "source": [
    "# Carregar os dados\n",
    "train = pd.read_csv('train.csv')\n",
    "test = pd.read_csv('test.csv')\n",
    "sample_submission = pd.read_csv('sample_submission.csv')"
   ]
  },
  {
   "cell_type": "code",
   "execution_count": 12,
   "id": "d3c461b4",
   "metadata": {},
   "outputs": [],
   "source": [
    "# One-hot encoding da coluna 'category_code'\n",
    "category_dummies_train = pd.get_dummies(train['category_code'], prefix='category')\n",
    "category_dummies_test = pd.get_dummies(test['category_code'], prefix='category')\n",
    "\n",
    "# Alinhar colunas entre treino e teste\n",
    "category_dummies_test = category_dummies_test.reindex(columns=category_dummies_train.columns, fill_value=0)\n"
   ]
  },
  {
   "cell_type": "code",
   "execution_count": 13,
   "id": "daa7ebf8",
   "metadata": {},
   "outputs": [],
   "source": [
    "# Concatenar dummies ao dataset\n",
    "train = pd.concat([train, category_dummies_train], axis=1)\n",
    "test = pd.concat([test, category_dummies_test], axis=1)\n",
    "\n",
    "# Remover a coluna original 'category_code'\n",
    "train = train.drop(columns=['category_code'])\n",
    "test = test.drop(columns=['category_code'])"
   ]
  },
  {
   "cell_type": "code",
   "execution_count": 14,
   "id": "be47af0d",
   "metadata": {},
   "outputs": [],
   "source": [
    "# Colunas com valores faltantes para imputação\n",
    "cols_with_nan = [\n",
    "    'age_first_funding_year', 'age_last_funding_year',\n",
    "    'age_first_milestone_year', 'age_last_milestone_year',\n",
    "    'funding_total_usd'\n",
    "]\n",
    "\n",
    "# Imputação por mediana\n",
    "imputer = SimpleImputer(strategy='median')\n",
    "train[cols_with_nan] = imputer.fit_transform(train[cols_with_nan])\n",
    "test[cols_with_nan] = imputer.transform(test[cols_with_nan])"
   ]
  },
  {
   "cell_type": "code",
   "execution_count": 15,
   "id": "aac7a8ae",
   "metadata": {},
   "outputs": [],
   "source": [
    "# Colunas numéricas para padronizar\n",
    "num_cols = [\n",
    "    'age_first_funding_year', 'age_last_funding_year', 'age_first_milestone_year',\n",
    "    'age_last_milestone_year', 'relationships', 'funding_rounds',\n",
    "    'funding_total_usd', 'milestones', 'avg_participants'\n",
    "]\n",
    "\n",
    "# Padronização\n",
    "scaler = StandardScaler()\n",
    "train[num_cols] = scaler.fit_transform(train[num_cols])\n",
    "test[num_cols] = scaler.transform(test[num_cols])"
   ]
  },
  {
   "cell_type": "code",
   "execution_count": 16,
   "id": "eb12c394",
   "metadata": {},
   "outputs": [],
   "source": [
    "# Separar features e alvo\n",
    "X = train.drop(columns=['id', 'labels'])\n",
    "y = train['labels']\n",
    "X_test = test.drop(columns=['id'])\n",
    "\n",
    "# Função para treinar e avaliar o modelo\n",
    "def train_and_evaluate(model, X, y):\n",
    "    scores = cross_val_score(model, X, y, cv=5, scoring='accuracy')\n",
    "    print(f'Acurácia média (5-fold CV): {np.mean(scores):.4f}')\n",
    "    model.fit(X, y)\n",
    "    return model"
   ]
  },
  {
   "cell_type": "code",
   "execution_count": 17,
   "id": "48d88335",
   "metadata": {},
   "outputs": [
    {
     "name": "stdout",
     "output_type": "stream",
     "text": [
      "Acurácia média (5-fold CV): 0.7987\n"
     ]
    }
   ],
   "source": [
    "# Treinar RandomForest\n",
    "rf = RandomForestClassifier(random_state=42)\n",
    "rf = train_and_evaluate(rf, X, y)\n",
    "\n",
    "# Fazer previsões no conjunto teste\n",
    "predictions = rf.predict(X_test)"
   ]
  },
  {
   "cell_type": "code",
   "execution_count": 18,
   "id": "b6f906ea",
   "metadata": {},
   "outputs": [
    {
     "name": "stdout",
     "output_type": "stream",
     "text": [
      "Arquivo submission.csv criado com sucesso!\n"
     ]
    }
   ],
   "source": [
    "# Preparar arquivo de submissão\n",
    "submission = sample_submission.copy()\n",
    "submission['labels'] = predictions\n",
    "submission.to_csv('submission.csv', index=False)\n",
    "print('Arquivo submission.csv criado com sucesso!')"
   ]
  }
 ],
 "metadata": {
  "kernelspec": {
   "display_name": "Python 3",
   "language": "python",
   "name": "python3"
  },
  "language_info": {
   "codemirror_mode": {
    "name": "ipython",
    "version": 3
   },
   "file_extension": ".py",
   "mimetype": "text/x-python",
   "name": "python",
   "nbconvert_exporter": "python",
   "pygments_lexer": "ipython3",
   "version": "3.13.7"
  }
 },
 "nbformat": 4,
 "nbformat_minor": 5
}
