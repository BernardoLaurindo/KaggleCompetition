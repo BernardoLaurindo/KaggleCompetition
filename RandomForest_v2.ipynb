{
 "cells": [
  {
   "cell_type": "code",
   "execution_count": 2,
   "id": "f0b1e2b7",
   "metadata": {},
   "outputs": [],
   "source": [
    "import pandas as pd\n",
    "from sklearn.impute import SimpleImputer\n",
    "from sklearn.preprocessing import StandardScaler\n",
    "from sklearn.ensemble import RandomForestClassifier\n",
    "from sklearn.model_selection import cross_val_score\n",
    "import numpy as np"
   ]
  },
  {
   "cell_type": "code",
   "execution_count": 3,
   "id": "a91be71b",
   "metadata": {},
   "outputs": [],
   "source": [
    "train = pd.read_csv('train.csv')\n",
    "test = pd.read_csv('test.csv')\n",
    "sample_submission = pd.read_csv('sample_submission.csv')"
   ]
  },
  {
   "cell_type": "code",
   "execution_count": 4,
   "id": "aac7a8ae",
   "metadata": {},
   "outputs": [],
   "source": [
    "# Colunas com valores faltantes para imputação\n",
    "cols_with_nan = [\n",
    "    'age_first_funding_year', 'age_last_funding_year',\n",
    "    'age_first_milestone_year', 'age_last_milestone_year',\n",
    "    'funding_total_usd'\n",
    "]\n",
    "\n",
    "# Imputação por mediana\n",
    "imputer = SimpleImputer(strategy='median')\n",
    "train[cols_with_nan] = imputer.fit_transform(train[cols_with_nan])\n",
    "test[cols_with_nan] = imputer.transform(test[cols_with_nan])"
   ]
  },
  {
   "cell_type": "code",
   "execution_count": 5,
   "id": "f3078a30",
   "metadata": {},
   "outputs": [],
   "source": [
    "# Colunas numéricas para padronizar (excluindo variáveis binárias e id)\n",
    "num_cols = [\n",
    "    'age_first_funding_year', 'age_last_funding_year', 'age_first_milestone_year',\n",
    "    'age_last_milestone_year', 'relationships', 'funding_rounds',\n",
    "    'funding_total_usd', 'milestones', 'avg_participants'\n",
    "]\n",
    "\n",
    "# Padronização\n",
    "scaler = StandardScaler()\n",
    "train[num_cols] = scaler.fit_transform(train[num_cols])\n",
    "test[num_cols] = scaler.transform(test[num_cols])"
   ]
  },
  {
   "cell_type": "code",
   "execution_count": 10,
   "id": "eb12c394",
   "metadata": {},
   "outputs": [],
   "source": [
    "# Separar features e alvo\n",
    "X = train.drop(columns=['id', 'labels', 'category_code'])\n",
    "y = train['labels']\n",
    "\n",
    "# Função para treinar e avaliar o modelo\n",
    "def train_and_evaluate(model, X, y):\n",
    "    scores = cross_val_score(model, X, y, cv=5, scoring='accuracy')\n",
    "    print(f'Acurácia média (5-fold CV): {np.mean(scores):.4f}')\n",
    "    model.fit(X, y)\n",
    "    return model"
   ]
  },
  {
   "cell_type": "code",
   "execution_count": 13,
   "id": "48d88335",
   "metadata": {},
   "outputs": [
    {
     "name": "stdout",
     "output_type": "stream",
     "text": [
      "Acurácia média (5-fold CV): 0.7925\n"
     ]
    }
   ],
   "source": [
    "# Exemplo: Treinar RandomForest\n",
    "rf = RandomForestClassifier(random_state=42)\n",
    "rf = train_and_evaluate(rf, X, y)\n",
    "\n",
    "# Fazer previsões no conjunto teste\n",
    "X_test = test.drop(columns=['id', 'category_code'])\n",
    "predictions = rf.predict(X_test)\n"
   ]
  },
  {
   "cell_type": "code",
   "execution_count": 14,
   "id": "b6f906ea",
   "metadata": {},
   "outputs": [
    {
     "name": "stdout",
     "output_type": "stream",
     "text": [
      "Arquivo submission.csv criado com sucesso!\n"
     ]
    }
   ],
   "source": [
    "# Preparar arquivo de submissão\n",
    "submission = sample_submission.copy()\n",
    "submission['labels'] = predictions\n",
    "submission.to_csv('submission.csv', index=False)\n",
    "print('Arquivo submission.csv criado com sucesso!')"
   ]
  }
 ],
 "metadata": {
  "kernelspec": {
   "display_name": "Python 3",
   "language": "python",
   "name": "python3"
  },
  "language_info": {
   "codemirror_mode": {
    "name": "ipython",
    "version": 3
   },
   "file_extension": ".py",
   "mimetype": "text/x-python",
   "name": "python",
   "nbconvert_exporter": "python",
   "pygments_lexer": "ipython3",
   "version": "3.13.7"
  }
 },
 "nbformat": 4,
 "nbformat_minor": 5
}
